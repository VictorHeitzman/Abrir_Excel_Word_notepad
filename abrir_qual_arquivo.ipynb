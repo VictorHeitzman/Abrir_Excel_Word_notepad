{
 "cells": [
  {
   "cell_type": "code",
   "execution_count": 2,
   "metadata": {},
   "outputs": [],
   "source": [
    "import pyautogui as pg"
   ]
  },
  {
   "cell_type": "code",
   "execution_count": 8,
   "metadata": {},
   "outputs": [
    {
     "name": "stdout",
     "output_type": "stream",
     "text": [
      "escolheu Excel\n"
     ]
    }
   ],
   "source": [
    "opcao = pg.confirm('Clique no botão desejado',buttons=['Excel','Word','Notepad'])\n",
    "\n",
    "if opcao == 'Excel':\n",
    "    \n",
    "    print('escolheu Excel')\n",
    "    pg.hotkey('win','r')\n",
    "    pg.sleep(1)\n",
    "    pg.typewrite('Excel')\n",
    "    pg.press('Enter')\n",
    "    pg.sleep(2)\n",
    "\n",
    "    pg.click(pg.locateCenterOnScreen('Excel.png', confidence=0.8))\n",
    "    pg.typewrite('Escolhi o Excel')\n",
    "\n",
    "\n",
    "elif opcao == 'Word':\n",
    "    \n",
    "    print('Escolheu Word')\n",
    "    pg.hotkey('win','r')\n",
    "    pg.sleep(1)\n",
    "    pg.typewrite('winword')\n",
    "    pg.press('Enter')\n",
    "    pg.sleep(2)\n",
    "\n",
    "    pg.click(pg.locateCenterOnScreen('Word.png', confidence=0.8))\n",
    "    pg.typewrite('Escolhi o Word')\n",
    "\n",
    "elif opcao == 'Notepad':\n",
    "    \n",
    "    print('Escolheu Notepad')\n",
    "    pg.hotkey('win','r')\n",
    "    pg.sleep(1)\n",
    "    pg.typewrite('notepad')\n",
    "    pg.press('Enter')\n",
    "    pg.sleep(2)\n",
    "    pg.typewrite('Escolhi o Notepad')\n",
    "    \n",
    "else:\n",
    "    print('Escolheu nenhuma')"
   ]
  }
 ],
 "metadata": {
  "kernelspec": {
   "display_name": "Python 3",
   "language": "python",
   "name": "python3"
  },
  "language_info": {
   "codemirror_mode": {
    "name": "ipython",
    "version": 3
   },
   "file_extension": ".py",
   "mimetype": "text/x-python",
   "name": "python",
   "nbconvert_exporter": "python",
   "pygments_lexer": "ipython3",
   "version": "3.11.3"
  },
  "orig_nbformat": 4
 },
 "nbformat": 4,
 "nbformat_minor": 2
}
